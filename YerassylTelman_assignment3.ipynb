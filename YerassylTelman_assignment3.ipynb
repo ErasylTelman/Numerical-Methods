{
  "nbformat": 4,
  "nbformat_minor": 0,
  "metadata": {
    "colab": {
      "provenance": []
    },
    "kernelspec": {
      "name": "python3",
      "display_name": "Python 3"
    },
    "language_info": {
      "name": "python"
    }
  },
  "cells": [
    {
      "cell_type": "markdown",
      "source": [
        "#Assignment 3"
      ],
      "metadata": {
        "id": "L_p4q5YEbVCz"
      }
    },
    {
      "cell_type": "markdown",
      "source": [
        "#Problem 1"
      ],
      "metadata": {
        "id": "8FwIsmh1bXqr"
      }
    },
    {
      "cell_type": "markdown",
      "source": [
        "\\begin{equation}\n",
        "x_1 + 2x_2 + 3x_3 = 10 \\\\\n",
        "5x_2 + 6x_3 = 11 \\\\\n",
        "9x_3 = 12\n",
        "\\end{equation}\n",
        "\n",
        "First we write a function to multiply $N \\times N$ matrix $A$ by $N$ element vector $B$. The result will be $N$ element vector $C$, and the general formula for multiplication for i-th element of $C$:\n",
        "\n",
        "\\begin{equation}\n",
        "C_i = A_{ij} \\cdot B_j\n",
        "\\end{equation}"
      ],
      "metadata": {
        "id": "WR1KjsRGeo-e"
      }
    },
    {
      "cell_type": "code",
      "execution_count": null,
      "metadata": {
        "id": "GPzlvMkKbR8r"
      },
      "outputs": [],
      "source": [
        "import numpy as np"
      ]
    },
    {
      "cell_type": "code",
      "source": [
        "def matrix_mult(A, B): #simple function to multily matrix by vector\n",
        "  N = B.size\n",
        "  C = np.zeros(N)\n",
        "  for i in range(N):\n",
        "    for j in range(N):\n",
        "      C[i] += A[i,j]*B[j]\n",
        "  return C"
      ],
      "metadata": {
        "id": "JykSEjoXbex9"
      },
      "execution_count": null,
      "outputs": []
    },
    {
      "cell_type": "markdown",
      "source": [
        "We can test this for multiplication\n",
        "\n",
        "$$\n",
        "\\begin{pmatrix}\n",
        "1 & 2 & 3 \\\\\n",
        "4 & 5 & 6 \\\\\n",
        "7 & 8 & 9\n",
        "\\end{pmatrix}\n",
        "\\begin{pmatrix}\n",
        "10 \\\\\n",
        "11 \\\\\n",
        "12\n",
        "\\end{pmatrix}\n",
        "$$"
      ],
      "metadata": {
        "id": "bDYUFG0tf2B2"
      }
    },
    {
      "cell_type": "code",
      "source": [
        "A = np.array([[1, 2, 3], [4, 5, 6], [7, 8, 9]], dtype=float)\n",
        "B = np.array([10, 11, 12], dtype=float)\n",
        "C = matrix_mult(A, B)\n",
        "print(\"Resulting matrix = \", C)"
      ],
      "metadata": {
        "colab": {
          "base_uri": "https://localhost:8080/"
        },
        "id": "2MCYbZh_dBOS",
        "outputId": "b93a4092-8334-47f1-9d3b-66e550ccc45e"
      },
      "execution_count": null,
      "outputs": [
        {
          "output_type": "stream",
          "name": "stdout",
          "text": [
            "Resulting matrix =  [ 68. 167. 266.]\n"
          ]
        }
      ]
    },
    {
      "cell_type": "markdown",
      "source": [
        "This gives correct result\n",
        "$\n",
        "\\begin{pmatrix}\n",
        "68 & 167 & 266\n",
        "\\end{pmatrix}.\n",
        "$"
      ],
      "metadata": {
        "id": "XMGxk6Gfhbon"
      }
    },
    {
      "cell_type": "markdown",
      "source": [
        "To solve the above system of equation, we can use backward substitution, as the matrix is upper traigonal. The roots are $N$ elemet matrix $X$. The last root can be found as $X_N = B_N/A_{NN}$. The remaining answers can be found with following formula:\n",
        "\n",
        "\\begin{equation}\n",
        "X_i = (B_i - \\sum_{k=i+1}^{N} A_{ik}X_k)/A_{ii}\n",
        "\\end{equation}"
      ],
      "metadata": {
        "id": "3QZ_Zz2niYu7"
      }
    },
    {
      "cell_type": "code",
      "source": [
        "def back_sub(A, B):\n",
        "  N = B.size\n",
        "  X = np.zeros(N)\n",
        "  X[N-1] = B[N-1]/A[N-1, N-1]\n",
        "  for i in range(N-2, -1, -1):\n",
        "    sum = 0\n",
        "    for k in range(i+1, N):\n",
        "      sum += A[i,k]*X[k]\n",
        "    X[i] = (B[i] - sum)/A[i,i]\n",
        "  return X"
      ],
      "metadata": {
        "id": "5jof5nsfedol"
      },
      "execution_count": null,
      "outputs": []
    },
    {
      "cell_type": "code",
      "source": [
        "M = np.array([[1, 2, 3], [0, 5, 6], [0, 0, 9]])\n",
        "b = np.array([10, 11, 12])\n",
        "\n",
        "ans = back_sub(M, b)\n",
        "print(ans)"
      ],
      "metadata": {
        "colab": {
          "base_uri": "https://localhost:8080/"
        },
        "id": "Sc-l0HZzgfIa",
        "outputId": "f35c7634-d3b6-42a8-f613-5704e8197ba6"
      },
      "execution_count": null,
      "outputs": [
        {
          "output_type": "stream",
          "name": "stdout",
          "text": [
            "[4.8        0.6        1.33333333]\n"
          ]
        }
      ]
    },
    {
      "cell_type": "markdown",
      "source": [
        "In the end we get three answers: $x_1 = 4.8$, $x_2=0.6$, $x_3=4/3$."
      ],
      "metadata": {
        "id": "SObjJtDHj7DA"
      }
    },
    {
      "cell_type": "markdown",
      "source": [
        "#Problem 2\n",
        "\n",
        "$$\n",
        "\\begin{pmatrix}\n",
        "2.0 & 0.1 & -0.2 \\\\\n",
        "0.05 & 4.2 & 0.032 \\\\\n",
        "0.12 & -0.07 & 5.0\n",
        "\\end{pmatrix}\n",
        "\\cdot \\vec{x}\n",
        "\\begin{pmatrix}\n",
        "10 \\\\\n",
        "11 \\\\\n",
        "12\n",
        "\\end{pmatrix}\n",
        "$$"
      ],
      "metadata": {
        "id": "bUqSB_X4jjyQ"
      }
    },
    {
      "cell_type": "markdown",
      "source": [
        "In order to solve a system of equation $AX=B$ (without pivoting), we must transform matrix $A$ into a triangular matrix with Gauss elimination. First we divide i=1st row of $A$ and i=1st element of $B$ by $A_{ii}. Then for each j-th row and elemnt:\n",
        "\n",
        "\\begin{equation}\n",
        "A_{jk} - A_{ik} \\cdot A_{ji} \\\\\n",
        "B_j - B_i \\cdot A_{ji}\n",
        "\\end{equation}"
      ],
      "metadata": {
        "id": "8mIhgcOolZIe"
      }
    },
    {
      "cell_type": "code",
      "source": [
        "def gauss_elim(A, B):\n",
        "  N = B.size\n",
        "  for i in range(N):\n",
        "    a_ii = A[i, i]\n",
        "    A[i,:] /= a_ii\n",
        "    B[i] /= a_ii\n",
        "    for j in range(i+1, N):\n",
        "      a_ji = A[j, i]\n",
        "      A[j, :] -= A[i, :]*a_ji\n",
        "      B[j] -= B[i]*a_ji\n",
        "  return A, B"
      ],
      "metadata": {
        "id": "7ygjybIqjlEY"
      },
      "execution_count": null,
      "outputs": []
    },
    {
      "cell_type": "code",
      "source": [
        "A2 = np.array([[2.0, 0.1, -0.2], [0.05, 4.2, 0.032], [0.12, -0.07, 5.0]], dtype=float)\n",
        "B2 = np.array([10, 11, 12], dtype=float)\n",
        "\n",
        "A2_ans, B2_ans = gauss_elim(A2, B2)\n",
        "print(A2_ans)\n",
        "print(B2_ans)"
      ],
      "metadata": {
        "colab": {
          "base_uri": "https://localhost:8080/"
        },
        "id": "bMveXqMOkx4W",
        "outputId": "fab1f9af-4850-489c-b142-a5b3249364d5"
      },
      "execution_count": null,
      "outputs": [
        {
          "output_type": "stream",
          "name": "stdout",
          "text": [
            "[[ 1.          0.05       -0.1       ]\n",
            " [ 0.          1.          0.00881477]\n",
            " [ 0.          0.          1.        ]]\n",
            "[5.         2.56104824 2.31306666]\n"
          ]
        }
      ]
    },
    {
      "cell_type": "markdown",
      "source": [
        "As we transformed the matrix to upper triangular matrix and can solve the system with backward substitution function from Problem 1."
      ],
      "metadata": {
        "id": "yUxySNY5qbcY"
      }
    },
    {
      "cell_type": "code",
      "source": [
        "X2_ans = back_sub(A2_ans, B2_ans)\n",
        "print(X2_ans)"
      ],
      "metadata": {
        "colab": {
          "base_uri": "https://localhost:8080/"
        },
        "id": "cPzh8nnDlZ-l",
        "outputId": "3de408d0-d4d5-40ac-c3e4-7ac3274f3db3"
      },
      "execution_count": null,
      "outputs": [
        {
          "output_type": "stream",
          "name": "stdout",
          "text": [
            "[5.10427371 2.54065909 2.31306666]\n"
          ]
        }
      ]
    },
    {
      "cell_type": "markdown",
      "source": [
        "This gives answers: $x_1 = 5.10427371$, $x_2 = 2.54065909$, $x_3 = 2.31306666$."
      ],
      "metadata": {
        "id": "UKAP5cJ1rG2J"
      }
    },
    {
      "cell_type": "markdown",
      "source": [
        "#Problem 3\n",
        "\n",
        "\\begin{pmatrix}\n",
        "6 & 5 & -5 \\\\\n",
        "2 & 6 & -2 \\\\\n",
        "2 & 5 & -1\n",
        "\\end{pmatrix}"
      ],
      "metadata": {
        "id": "Pb6c8SzJU9or"
      }
    },
    {
      "cell_type": "markdown",
      "source": [
        "To find eigenvalues and eigenvectors of matrix $A$ with power method, we take an initial guess vector $\\textbf{x}$. The eigenvalue can be found after $k$ iterations from ratio $\\lambda = r^{(k)} = \\frac{A^{k+1}x}{A^k x}$."
      ],
      "metadata": {
        "id": "3aNyYz6ovVCU"
      }
    },
    {
      "cell_type": "code",
      "source": [
        "def power_method(A, b, num_iter, error):\n",
        "  for i in range(num_iter):\n",
        "    b_new = np.dot(A, b)\n",
        "    eigenval = np.dot(b_new, b)/np.dot(b, b)\n",
        "    b = b_new/np.sqrt(b_new[0]**2 + b_new[1]**2 + b_new[2]**2) #for big matrices it is better to calculate norm with more generalized fundtion, not like this\n",
        "\n",
        "    diff = np.dot(A, b) - eigenval*b\n",
        "    if np.sqrt(diff[0]**2 + diff[1]**2 + diff[2]**2) < error:\n",
        "      break\n",
        "  eigenvec = b\n",
        "  return eigenval, eigenvec"
      ],
      "metadata": {
        "id": "p9aOxUeVU_Dp"
      },
      "execution_count": null,
      "outputs": []
    },
    {
      "cell_type": "code",
      "source": [
        "A3 = np.array([[6, 5, -5], [2, 6, -2], [2, 5, -1]], dtype=float)\n",
        "b_test = np.array([-1, 2, 4]) #any initial guess vector\n",
        "\n",
        "eigenval, eigenvec = power_method(A3, b_test, 100, 1e-8)\n",
        "\n",
        "print(\"Largest eigenvalue = \", eigenval)\n",
        "print(\"Corresponding eigenvector = \", eigenvec)"
      ],
      "metadata": {
        "colab": {
          "base_uri": "https://localhost:8080/"
        },
        "id": "CA7qGcBrozwL",
        "outputId": "a30e6fe5-dc47-47cf-9c85-98a793c12a6d"
      },
      "execution_count": null,
      "outputs": [
        {
          "output_type": "stream",
          "name": "stdout",
          "text": [
            "Largest eigenvalue =  6.000000011762464\n",
            "Corresponding eigenvector =  [-0.57735027 -0.57735027 -0.57735027]\n"
          ]
        }
      ]
    },
    {
      "cell_type": "markdown",
      "source": [
        "Aitken's method takes three approximations of eigenvalues $r_k$, $r_{k+1}$ and $r_{k+2}$, and calculates the eigenvalue as:\n",
        "\n",
        "\\begin{equation}\n",
        "\\lambda = \\frac{r_k r_{k+2} - r_{k+1}^2}{r_{k+2} - 2r_{k+1} + r_k}\n",
        "\\end{equation}"
      ],
      "metadata": {
        "id": "PmmvQWjIwmXq"
      }
    },
    {
      "cell_type": "code",
      "source": [
        "def aitken(eigenvals):\n",
        "  r_k0 = eigenvals[0]\n",
        "  r_k1 = eigenvals[1]\n",
        "  r_k2 = eigenvals[2]\n",
        "\n",
        "  eigenval = (r_k0*r_k2 - r_k1**2)/(r_k2 - 2*r_k1 + r_k0)\n",
        "\n",
        "  return eigenval"
      ],
      "metadata": {
        "id": "0vfmg2-Fr4H2"
      },
      "execution_count": null,
      "outputs": []
    },
    {
      "cell_type": "code",
      "source": [
        "eigenvals = []\n",
        "for i in range(10):\n",
        "  eigenval2, eigenvec2 = power_method(A3, b_test, 1, 1e-6)\n",
        "  eigenvals.append(eigenval2)\n",
        "\n",
        "  if len(eigenvals) >= 3:\n",
        "    eigenval_aitken = aitken(eigenvals)\n",
        "\n",
        "print(eigenval_aitken)"
      ],
      "metadata": {
        "colab": {
          "base_uri": "https://localhost:8080/"
        },
        "id": "KdJyS4Hdsgfb",
        "outputId": "cb906d35-6a40-4360-9d78-4b1bea4d29d7"
      },
      "execution_count": null,
      "outputs": [
        {
          "output_type": "stream",
          "name": "stdout",
          "text": [
            "nan\n"
          ]
        },
        {
          "output_type": "stream",
          "name": "stderr",
          "text": [
            "<ipython-input-58-e4160fc4e90c>:6: RuntimeWarning: invalid value encountered in scalar divide\n",
            "  eigenval = (r_k0*r_k2 - r_k1**2)/(r_k2 - 2*r_k1 + r_k0)\n"
          ]
        }
      ]
    }
  ]
}