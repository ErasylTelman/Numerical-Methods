{
  "nbformat": 4,
  "nbformat_minor": 0,
  "metadata": {
    "colab": {
      "provenance": []
    },
    "kernelspec": {
      "name": "python3",
      "display_name": "Python 3"
    },
    "language_info": {
      "name": "python"
    }
  },
  "cells": [
    {
      "cell_type": "markdown",
      "source": [
        "#Problem 1\n",
        "\n",
        "To prove the central difference relation, we express $y(x_0+h)$ and $y(x_0-h)$ with Taylor series for small $h$.\n",
        "\n",
        "\\begin{equation}\n",
        "y_1 = y(x_0+h) = y_0 + y_0'h+\\frac{1}{2}y_0''h^2+\\frac{1}{6}y_0'''h^3+\\frac{1}{24}y_0^{(4)}h^4+O(h^5) \\\\\n",
        "y_{-1} = y(x_0-h) = y_0 - y_0'h+\\frac{1}{2}y_0''h^2-\\frac{1}{6}y_0'''h^3+\\frac{1}{24}y_0^{(4)}h^4-O(h^5)\n",
        "\\end{equation}\n",
        "\n",
        "If we sum these two:\n",
        "\n",
        "\\begin{equation}\n",
        "y_1+y_{-1} \\approx 2y_0 + y_0''h^2 + \\frac{1}{12}y^{(4)}h^4 \\\\\n",
        "y_0'' \\approx \\frac{y_1 - 2y_0 +y_{-1}}{h^2} - \\frac{1}{12}y^{(4)}\n",
        "\\end{equation}\n",
        "\n",
        "Thus, we found the error term $O(h^2) = -\\frac{1}{12}y^{(4)}(\\xi)$."
      ],
      "metadata": {
        "id": "FDoP01CKTGWC"
      }
    },
    {
      "cell_type": "markdown",
      "source": [
        "#Problem 2\n",
        "\n",
        "In this problem we similarly expand also $y_2 = y(x_0+2h)$ and $y_{-2} = y(x_0-2h)$:\n",
        "\n",
        "\\begin{equation}\n",
        "y_2 = y(x_0+2h) = y_0 + 2hy_0'+\\frac{(2h)^2}{2}y_0''+\\frac{(2h)^3}{6}y_0'''+\\frac{(2h)^4}{24}y_0^{(4)}+O(h^5) \\\\\n",
        "y_{-2} = y(x_0-2h) = y_0 - 2hy_0'+\\frac{(2h)^2}{2}y_0''-\\frac{(2h)^3}{6}y_0'''+\\frac{(2h)^4}{24}y_0^{(4)}-O(h^5)\n",
        "\\end{equation}\n",
        "\n",
        "It is possible to sum these terms with certain coefficients:\n",
        "\n",
        "\\begin{equation}\n",
        "-y_2-y_{-2}+16y_1+16y_{-1}-30y_0 = 12h^2y_0''-\\frac{2}{15}h^6y_0^{(6)} \\\\\n",
        "y_0''=\\frac{-y_2+16y_1-30y_0+16y_{-1}-y_{-2}}{12h^2}+\\frac{1}{90}h^4y_0^{(6)}\n",
        "\\end{equation}\n",
        "\n",
        "So $O(h^4) = \\frac{1}{90}h^4y_0^{(6)}$."
      ],
      "metadata": {
        "id": "N1rJIfj7U-fw"
      }
    },
    {
      "cell_type": "markdown",
      "source": [
        "#Problem 3\n",
        "\n",
        "For a function $f(x) = \\arctan{(x)}$ at $x_0=0$, the first iteration of Richardson extrapolation gives:\n",
        "\n",
        "\\begin{equation}\n",
        "y_0'=\\frac{4}{3}F(h/2) - \\frac{1}{3}F(h) - \\frac{1}{4}\\psi_4h^4-\\frac{5}{16}\\psi_6h^6\n",
        "\\end{equation}\n",
        "\n",
        "where:\n",
        "\n",
        "\\begin{equation}\n",
        "F(h) = \\frac{y(x_0+h) - y(x_0 - h)}{2h} \\\\\n",
        "\\Psi(h) = \\frac{h^2}{6}y_0''' + \\frac{h^4}{120}y_0^{(5)} + \\frac{h^6}{5040}y_0^{(7)} + ... = \\psi_2h^2 + \\psi_4h^4 + \\psi_6h^6 + ...\n",
        "\\end{equation}\n",
        "\n",
        "We can repeat it to second iteration as:\n",
        "\n",
        "\\begin{equation}\n",
        "y_0'(h) = \\tilde{F}(h)+\\tilde{\\Psi}(h) \\\\\n",
        "\\tilde{F}(h) = \\frac{4}{3}F(h/2) - \\frac{1}{3}F(h) \\\\\n",
        "\\tilde{\\Psi}(h) = \\tilde{\\psi_4}h^4 + \\tilde{\\psi_6}h^6 + ... = - \\frac{\\psi_4}{4}h^4 - \\frac{5\\psi_6}{16}h^6 + ...\\\\\n",
        "\\end{equation}\n",
        "\n",
        "And so:\n",
        "\n",
        "\\begin{equation}\n",
        "y_0'=\\frac{16}{15}\\tilde{F}(h/2) - \\frac{1}{15}\\tilde{F}(h) - \\frac{1}{20}\\tilde{\\psi_6}h^6 - ...\n",
        "\\end{equation}"
      ],
      "metadata": {
        "id": "L-bV5nrjdMSe"
      }
    },
    {
      "cell_type": "code",
      "execution_count": 1,
      "metadata": {
        "id": "IPP0DFAmTCWs"
      },
      "outputs": [],
      "source": [
        "import numpy as np"
      ]
    },
    {
      "cell_type": "code",
      "source": [
        "def f(x):\n",
        "  return np.arctan(x)\n",
        "\n",
        "def df(x):\n",
        "  return 1/(1 + x**2)"
      ],
      "metadata": {
        "id": "5IB4-NDKmA7Z"
      },
      "execution_count": 2,
      "outputs": []
    },
    {
      "cell_type": "code",
      "source": [
        "def central_dif(h):\n",
        "  return (f(x + h) - f(x - h))/(2*h)\n",
        "\n",
        "def richardson(x, h):\n",
        "  F_h = central_dif(h)\n",
        "  F_h_half = central_dif(h/2)\n",
        "  R_1 = 4*F_h_half/3 - F_h/3\n",
        "\n",
        "  F_h_quart = central_dif(h/4)\n",
        "  R_2 = 4*F_h_quart/3 - R_1/3\n",
        "\n",
        "  ans = 16*R_2/15 - R_1/15\n",
        "\n",
        "  return ans"
      ],
      "metadata": {
        "id": "bYw4aHwmmF1H"
      },
      "execution_count": 3,
      "outputs": []
    },
    {
      "cell_type": "code",
      "source": [
        "x = 0\n",
        "h = 0.1\n",
        "\n",
        "richardson_ans = richardson(x, h)"
      ],
      "metadata": {
        "id": "IBBMxOuxnyV0"
      },
      "execution_count": 4,
      "outputs": []
    },
    {
      "cell_type": "code",
      "source": [
        "print(\"Derivative with two iterations Richardson extrapolation = \", richardson_ans)\n",
        "print(\"Exact derivative x0 = \", df(0))"
      ],
      "metadata": {
        "colab": {
          "base_uri": "https://localhost:8080/"
        },
        "id": "bo6TqsXFn9he",
        "outputId": "f094e280-2b64-4ce7-a9ae-6526d8466a93"
      },
      "execution_count": 5,
      "outputs": [
        {
          "output_type": "stream",
          "name": "stdout",
          "text": [
            "Derivative with two iterations Richardson extrapolation =  0.9997059071798116\n",
            "Exact derivative x0 =  1.0\n"
          ]
        }
      ]
    },
    {
      "cell_type": "markdown",
      "source": [
        "As we can see, we found the derivative at $x_0=0$ with good accuracy."
      ],
      "metadata": {
        "id": "uSsGdEZaoeT9"
      }
    },
    {
      "cell_type": "markdown",
      "source": [
        "To find the derivative with splines, we must make quadratic splines around our point $x_0$. Each spline is defined as:\n",
        "\n",
        "\\begin{equation}\n",
        "f(x_{i-1}) = a_{i-1}x_{i-1}^2 + b_{i-1}x_{i-1}^2 + c_{i-1} = a_{i}x_{i-1}^2 + b_{i}x_{i-1}^2 + c_{i}\n",
        "\\end{equation}\n",
        "\n",
        "And the derivatives on nodes must be equal too:\n",
        "\n",
        "\\begin{equation}\n",
        "2a_{i-1}x_{i-1} + b_{i-1} = 2a_ix_{i-1} + b_i\n",
        "\\end{equation}\n",
        "\n",
        "These $3n$ coefficients can be found as a solution to linear system of equation $AX=B$, and the derivative at $x_n = x_0$ is $f'(x_0) = a_nx_0+b_n$.\n",
        "\n",
        "P.S. I am being honest, I am reusing the function for splines that I wrote a long time ago, even long before ChatGPT, and slightly improved it."
      ],
      "metadata": {
        "id": "DibR95JGiOe-"
      }
    },
    {
      "cell_type": "code",
      "source": [
        "def quadratic_spline(x, xVals, yVals):\n",
        "  n = len(xVals) - 1\n",
        "  size = 3 * n\n",
        "  A = np.zeros((size, size))\n",
        "  B = np.zeros(size)\n",
        "  i = 0\n",
        "  for k in range(n):  #finding x_{i}th terms\n",
        "    A[i, 3*k] = xVals[k]**2\n",
        "    A[i, 3*k+1] = xVals[k]\n",
        "    A[i, 3*k+2] = 1\n",
        "    B[i] = yVals[k]\n",
        "    i += 1\n",
        "\n",
        "    A[i, 3*k] = xVals[k+1]**2  #for x_{i+1}\n",
        "    A[i, 3*k+1] = xVals[k+1]\n",
        "    A[i, 3*k+2] = 1\n",
        "    B[i] = yVals[k+1]\n",
        "    i += 1\n",
        "\n",
        "  for k in range(1, n):  #for derivatives\n",
        "    A[i, 3*(k-1)] = 2 * xVals[k]\n",
        "    A[i, 3*(k-1)+1] = 1\n",
        "    A[i, 3*k] = -2 * xVals[k]\n",
        "    A[i, 3*k+1] = -1\n",
        "    i += 1\n",
        "\n",
        "  A[i, 0] = 1  #boundary condition for the first segment\n",
        "  i += 1\n",
        "\n",
        "  coef = np.linalg.solve(A, B)\n",
        "  for k in range(n):\n",
        "    if xVals[k] <= x <= xVals[k+1]:\n",
        "      a = coef[3*k]\n",
        "      b = coef[3*k+1]\n",
        "      c = coef[3*k+2]\n",
        "      return 2*a*x + b  # Return the derivative at x"
      ],
      "metadata": {
        "id": "ELs3OnrKgnWF"
      },
      "execution_count": 6,
      "outputs": []
    },
    {
      "cell_type": "code",
      "source": [
        "xVals = np.linspace(-0.1, 0.1, 10)\n",
        "yVals = f(xVals)"
      ],
      "metadata": {
        "id": "9GKuK1EnhTpo"
      },
      "execution_count": 7,
      "outputs": []
    },
    {
      "cell_type": "code",
      "source": [
        "print(\"The derivative at x=0 with splines method = \", quadratic_spline(0, xVals, yVals))"
      ],
      "metadata": {
        "colab": {
          "base_uri": "https://localhost:8080/"
        },
        "id": "jnYLlc_Ehin9",
        "outputId": "3f1aff3a-dd7a-441a-abaf-0977d249f859"
      },
      "execution_count": 8,
      "outputs": [
        {
          "output_type": "stream",
          "name": "stdout",
          "text": [
            "The derivative at x=0 with splines method =  0.9999588507846722\n"
          ]
        }
      ]
    },
    {
      "cell_type": "markdown",
      "source": [
        "Again, we get the answer close to real value."
      ],
      "metadata": {
        "id": "ZNZDq1FRnars"
      }
    }
  ]
}
