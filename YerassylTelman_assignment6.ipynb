{
  "nbformat": 4,
  "nbformat_minor": 0,
  "metadata": {
    "colab": {
      "provenance": []
    },
    "kernelspec": {
      "name": "python3",
      "display_name": "Python 3"
    },
    "language_info": {
      "name": "python"
    }
  },
  "cells": [
    {
      "cell_type": "markdown",
      "source": [
        "#Problem 2\n",
        "\n",
        "In Simpson's $1/3$ rule we subdivide the function into $n$ intervals $[x_i, x_{i+1}]$ and present them as parabolas through points $x_{i-1}, x_i, x_{i+1}$. This results in the integral as:\n",
        "\n",
        "\\begin{equation}\n",
        "\\int_a^{b}f(x)dx = \\sum_{i=1}^{n-2} \\frac{h}{3}(f_i+4f_{i+1} + f_{i+1})\n",
        "\\end{equation}"
      ],
      "metadata": {
        "id": "BNYnWH8Cqq5i"
      }
    },
    {
      "cell_type": "code",
      "source": [
        "import numpy as np\n",
        "import matplotlib.pyplot as plt"
      ],
      "metadata": {
        "id": "UjL1mFORt4Vo"
      },
      "execution_count": 1,
      "outputs": []
    },
    {
      "cell_type": "code",
      "source": [
        "def f(x):\n",
        "  return 2**x*np.sin(x)/x"
      ],
      "metadata": {
        "id": "gIctoOtwqp_c"
      },
      "execution_count": 2,
      "outputs": []
    },
    {
      "cell_type": "markdown",
      "source": [],
      "metadata": {
        "id": "2Cg3Df6ATXtK"
      }
    },
    {
      "cell_type": "code",
      "source": [
        "def simpson(f, a, b, n):\n",
        "  x = np.linspace(a, b, n)\n",
        "  y = np.array([f(xi) for xi in x])\n",
        "  h = (x[n-1] - x[0])/(n-1)\n",
        "  sum = 0\n",
        "  integral = y[0] + y[-1]\n",
        "  integral += 4 * np.sum(y[1:n:2])\n",
        "  integral += 2 * np.sum(y[2:n-1:2])\n",
        "\n",
        "  return (h / 3) * integral"
      ],
      "metadata": {
        "id": "KPZ-5682qva7"
      },
      "execution_count": 3,
      "outputs": []
    },
    {
      "cell_type": "code",
      "source": [
        "ans_simpson = simpson(f, 1, 2, 400)\n",
        "print(\"Integral with Simpson's rule = \",  ans_simpson)"
      ],
      "metadata": {
        "colab": {
          "base_uri": "https://localhost:8080/"
        },
        "id": "3aNjXJxBsb4t",
        "outputId": "f45db9ac-f404-4846-9b00-9e8601ea805d"
      },
      "execution_count": 4,
      "outputs": [
        {
          "output_type": "stream",
          "name": "stdout",
          "text": [
            "Integral with Simpson's rule =  1.8421490808319019\n"
          ]
        }
      ]
    },
    {
      "cell_type": "markdown",
      "source": [
        "This is close to the real values of\n",
        "\\begin{equation}\n",
        "\\int_{1}^{2}f(x)dx = 1.83759\n",
        "\\end{equation}"
      ],
      "metadata": {
        "id": "JlURb5-kTKr7"
      }
    },
    {
      "cell_type": "markdown",
      "source": [
        "Romberg method relies on Richardson extrapolation. It is assumed that the exact value of integral is: $I=I(h)+E(h)$, sum of calculated value and some error. Thus, if we calculate integral with two values of $h$ using trapezoidal rule, we get:\n",
        "$$I=I(h_1)+E(h_1)$$\n",
        "$$I=I(h_2)+E(h_2)$$\n",
        "\n",
        "Since the error of trapezoidal rule is proportional to $O(h^2)$, we can write as $E(h_1)≃E(h_2)(\\frac{h_1}{h_2})^2$. Substituting to the first equation in the end gives formula for more accurate integral:\n",
        "\n",
        "\\begin{equation}\n",
        "I≃I(h_2)+\\frac{1}{(h_1/h_2)^2-1}[I(h_2)-I(h_1)]\n",
        "\\end{equation}\n",
        "\n",
        "The error of this integral is proporational to $h$ as $O(h^4)$. Now it is possible to reduce $h$ by factor of 2 and iterate the process, so the formula for the integral is:\n",
        "\n",
        "\\begin{equation}\n",
        "I_{j,k}≃(4^{k-1}I_{j+1,k-1}-I_{j,k-1})/(4^{k-1}-1)\n",
        "\\end{equation}\n",
        "\n",
        "Here, $k$ is the level of integration, so $k=1$ corresponds to $O(h^2)$, $k=2$ to $O(h^4)$ and so on. $j$ and $j+1$ correspond to less accurate and more accurate $h$."
      ],
      "metadata": {
        "id": "a6umIJbWSBHz"
      }
    },
    {
      "cell_type": "code",
      "source": [
        "def trapez(f, a, b, n):\n",
        "  h = (b - a)/n\n",
        "  I = f(a) + f(b)\n",
        "  for i in range(1, n):\n",
        "    I += 2*f(a + i*h)\n",
        "  I = I*h/2\n",
        "  return I"
      ],
      "metadata": {
        "id": "P6t0E0n6uoZh"
      },
      "execution_count": 5,
      "outputs": []
    },
    {
      "cell_type": "code",
      "source": [
        "def romberg(f, a, b, p):\n",
        "  I = np.zeros([p, p])\n",
        "  for k in range(0, p):\n",
        "    I[k][0] = trapez(f, a, b, 2**k)\n",
        "    for j in range(0, k):\n",
        "      I[k, j+1] = (4**(j+1) * I[k, j] - I[k-1, j]) / (4**(j+1) - 1) #the formula for more accurate integral\n",
        "  return I[p-1][p-1]"
      ],
      "metadata": {
        "id": "eI2fRxYp33wC"
      },
      "execution_count": 6,
      "outputs": []
    },
    {
      "cell_type": "code",
      "source": [
        "ans_romberg = romberg(f, 1, 2, 3)\n",
        "print(\"Integral with Romberg method = \", ans_romberg)"
      ],
      "metadata": {
        "colab": {
          "base_uri": "https://localhost:8080/"
        },
        "id": "W3whEDYH4eiy",
        "outputId": "9066ff0e-0705-4d79-aaab-25fa8ed68633"
      },
      "execution_count": 7,
      "outputs": [
        {
          "output_type": "stream",
          "name": "stdout",
          "text": [
            "Integral with Romberg method =  1.8375923991719272\n"
          ]
        }
      ]
    },
    {
      "cell_type": "markdown",
      "source": [
        "Very close to real value."
      ],
      "metadata": {
        "id": "ABiIGSTzTq04"
      }
    },
    {
      "cell_type": "code",
      "source": [
        "def gauss_legendre(f, a, b):\n",
        "  X = np.array([-0.8611363116, -0.339981046, 0.339981046, 0.8611363116])\n",
        "  A = np.array([0.3478548451, 0.6521451549, 0.6521451549, 0.3478548451])\n",
        "  t = 0.5*(X + 1)*(b - a) + a\n",
        "  return 0.5*(b - a)*np.sum(A*f(t))"
      ],
      "metadata": {
        "id": "EhnDy7zK4qT7"
      },
      "execution_count": 13,
      "outputs": []
    },
    {
      "cell_type": "code",
      "source": [
        "ans_gauss_legendre = gauss_legendre(f, 1, 2)\n",
        "print(\"Integral with Gauss-Legendre method = \", ans_gauss_legendre)"
      ],
      "metadata": {
        "colab": {
          "base_uri": "https://localhost:8080/"
        },
        "id": "pmEYEctV8C97",
        "outputId": "c06f71ca-0dbf-4ddf-8357-06bbc915c9d1"
      },
      "execution_count": 9,
      "outputs": [
        {
          "output_type": "stream",
          "name": "stdout",
          "text": [
            "Integral with Gauss-Legendre method =  1.8375917029941118\n"
          ]
        }
      ]
    },
    {
      "cell_type": "markdown",
      "source": [
        "Also very close to real value of the integral."
      ],
      "metadata": {
        "id": "LCxeKq9WTt49"
      }
    },
    {
      "cell_type": "markdown",
      "source": [
        "#Problem 3"
      ],
      "metadata": {
        "id": "F0wtCEjp8Vu4"
      }
    },
    {
      "cell_type": "code",
      "source": [
        "def int_in1(y):\n",
        "    return simpson(lambda x: x*y**2, 0, 2, 400) #inner integral\n",
        "\n",
        "integral1 = simpson(int_in1, 0, 1, 400)\n",
        "\n",
        "print(\"First double integral = \", integral1)"
      ],
      "metadata": {
        "colab": {
          "base_uri": "https://localhost:8080/"
        },
        "id": "OVjTNH8yYKda",
        "outputId": "27768291-fbb0-43b1-aeb0-9a2e18afe56f"
      },
      "execution_count": 10,
      "outputs": [
        {
          "output_type": "stream",
          "name": "stdout",
          "text": [
            "First double integral =  0.6750516259496866\n"
          ]
        }
      ]
    },
    {
      "cell_type": "markdown",
      "source": [
        "This is close to $2/3$."
      ],
      "metadata": {
        "id": "nOryrFQ-gVUi"
      }
    },
    {
      "cell_type": "code",
      "source": [
        "def int_in2(y):\n",
        "  return simpson(lambda x: x*y**2, 2*y, 2, 400) #now from 2y to 2\n",
        "\n",
        "integral2 = simpson(int_in2, 0, 1, 400)\n",
        "\n",
        "print(\"Second double integral = \", integral2)"
      ],
      "metadata": {
        "colab": {
          "base_uri": "https://localhost:8080/"
        },
        "id": "v7gKQbrocu_q",
        "outputId": "709b3dcc-6e88-4525-e21c-75eead1dfab2"
      },
      "execution_count": 11,
      "outputs": [
        {
          "output_type": "stream",
          "name": "stdout",
          "text": [
            "Second double integral =  0.2674980300829114\n"
          ]
        }
      ]
    },
    {
      "cell_type": "markdown",
      "source": [
        "This is close to $4/15 = 0.2666...$"
      ],
      "metadata": {
        "id": "AXLWyuchgscD"
      }
    },
    {
      "cell_type": "code",
      "source": [
        "def int_in3(x):\n",
        "  return simpson(lambda y: x*y**2, 0, x/2, 400)\n",
        "\n",
        "integral3 = simpson(int_in3, 0, 2, 400)\n",
        "\n",
        "print(\"Third double integral = \", integral3)"
      ],
      "metadata": {
        "colab": {
          "base_uri": "https://localhost:8080/"
        },
        "id": "HqYoWgWPdfQq",
        "outputId": "a532801a-4b8f-4157-c4bc-ed82aef1e4a3"
      },
      "execution_count": 12,
      "outputs": [
        {
          "output_type": "stream",
          "name": "stdout",
          "text": [
            "Third double integral =  0.2720458136853035\n"
          ]
        }
      ]
    },
    {
      "cell_type": "markdown",
      "source": [
        "This is also close to the real answer $4/15 = 0.2666...$"
      ],
      "metadata": {
        "id": "NO-_6Oe7gwa-"
      }
    }
  ]
}