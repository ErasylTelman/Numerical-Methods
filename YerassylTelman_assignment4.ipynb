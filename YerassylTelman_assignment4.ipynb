{
  "nbformat": 4,
  "nbformat_minor": 0,
  "metadata": {
    "colab": {
      "provenance": []
    },
    "kernelspec": {
      "name": "python3",
      "display_name": "Python 3"
    },
    "language_info": {
      "name": "python"
    }
  },
  "cells": [
    {
      "cell_type": "markdown",
      "source": [
        "#Assignment 4"
      ],
      "metadata": {
        "id": "jsGR6FjVLOlF"
      }
    },
    {
      "cell_type": "markdown",
      "source": [
        "#Problem 1\n",
        "\n",
        "In order to find Pade approximation of $f(x)=e^x$, we first write its Maclaurin series:\n",
        "\n",
        "\\begin{equation}\n",
        "f(x) = 1 + x + \\frac{1}{2}x^2+...+\\frac{1}{5040}x^7 +... = \\sum \\frac{f^{(n)}(0)}{n!}x^n\n",
        "\\end{equation}\n",
        "\n",
        "So Pade approximation $P[m,n]$ can be found as:\n",
        "\n",
        "\\begin{equation}\n",
        "P[m,n] = f(x) = \\frac{a_0+a_1x+...+a_m x^m}{1+b_1x+...+b_n x^n}\n",
        "\\end{equation}\n",
        "\n",
        "For Pade approximations $P[7,0]$, $P[3,4]$, $P[2,5]$ we construct a system of 7 equations with 7 unknown coefficient."
      ],
      "metadata": {
        "id": "-6R1kHiMLRNG"
      }
    },
    {
      "cell_type": "markdown",
      "source": [
        "For $P[7,0]$, there are 7 coefficients $a$ and no coefficientn $b$. So the system of equations will be trivial as $c_i-a_i=0$, and the whole approximation will be identical to Taylor/Maclaurin expansion of $e^x$:\n",
        "\n",
        "\\begin{equation}\n",
        "P[7,0] = 1 + x + \\frac{1}{2}x^2+ \\frac{1}{6}x^3 + \\frac{1}{6}x^3 + \\frac{1}{24}x^4 + \\frac{1}{120}x^5 + \\frac{1}{720}x^6 + \\frac{1}{5040}x^7\n",
        "\\end{equation}"
      ],
      "metadata": {
        "id": "KKvaLXvFLU4G"
      }
    },
    {
      "cell_type": "markdown",
      "source": [
        "For $P[3,4]$, $a_0=c_0=1$, and the rest of unknown coefficients are: $(a_1, a_2, a_3, b_1, b_2, b_3, b_4)$. It is possible to simplify the polynomial $f(x)-\\frac{P(x)}{Q(x)}$ to terms/coefficients with same $x^a$ factor with Wolfram Matematica. This gives us a system of equations:\n",
        "\n",
        "$$\n",
        "\\begin{pmatrix}\n",
        "-1 & 0 & 0 & 1 & 0 & 0 & 0 \\\\\n",
        "0 & -1 & 0 & 1 & 1 & 0 & 0 \\\\\n",
        "0 & 0 & -1 & 1/2 & 1 & 1 & 0 \\\\\n",
        "0 & 0 & 0 & 1/6 & 1/2 & 1 & 1 \\\\\n",
        "0 & 0 & 0 & 1/24 & 1/6 & 1/2 & 1 \\\\\n",
        "0 & 0 & 0 & 1/120 & 1/24 & 1/6 & 1/2 \\\\\n",
        "0 & 0 & 0 & 1/720 & 1/120 & 1/24 & 1/6 \\\\\n",
        "\\end{pmatrix}\n",
        "\\begin{pmatrix}\n",
        "a_1 \\\\\n",
        "a_2 \\\\\n",
        "a_3 \\\\\n",
        "b_1 \\\\\n",
        "b_2 \\\\\n",
        "b_3 \\\\\n",
        "b_4\n",
        "\\end{pmatrix}\n",
        "\\begin{pmatrix}\n",
        "-1 \\\\\n",
        "-1/2 \\\\\n",
        "-1/6 \\\\\n",
        "-1/24 \\\\\n",
        "-1/120 \\\\\n",
        "-1/720 \\\\\n",
        "-1/5040\n",
        "\\end{pmatrix}\n",
        "$$\n",
        "\n",
        "This can be solved with Mathematica, which gives us results for the coefficients and final answer.\n",
        "\n",
        "Alternatively, we can solve it with Python. However, we will get the answer in decimal terms."
      ],
      "metadata": {
        "id": "NHmCqAlYOfbv"
      }
    },
    {
      "cell_type": "code",
      "source": [
        "import numpy as np\n",
        "import matplotlib.pyplot as plt"
      ],
      "metadata": {
        "id": "5jmOaYfKH99y"
      },
      "execution_count": 2,
      "outputs": []
    },
    {
      "cell_type": "code",
      "source": [
        "A = np.array([[-1, 0, 0, 1, 0, 0, 0],\n",
        "              [0, -1, 0, 1, 1, 0 , 0],\n",
        "              [0, 0, -1, 1/2, 1, 1, 0],\n",
        "              [0, 0, 0, 1/6, 1/2, 1, 1],\n",
        "              [0, 0, 0, 1/24, 1/6, 1/2, 1],\n",
        "              [0, 0, 0, 1/120, 1/24, 1/6, 1/2],\n",
        "              [0, 0, 0, 1/720, 1/120, 1/24, 1/6]])\n",
        "\n",
        "B = np.array([-1, -1/2, -1/6, -1/24, -1/120, -1/720, -1/5040])\n",
        "\n",
        "X = np.linalg.solve(A, B)\n",
        "\n",
        "print(\"(a1 a2 a3 b1 b2 b3 b4) = \", X)"
      ],
      "metadata": {
        "colab": {
          "base_uri": "https://localhost:8080/"
        },
        "id": "XyGvWHZlIC5R",
        "outputId": "c7d27edb-c970-4a7c-d53c-a854b662a408"
      },
      "execution_count": 30,
      "outputs": [
        {
          "output_type": "stream",
          "name": "stdout",
          "text": [
            "(a1 a2 a3 b1 b2 b3 b4) =  [ 0.42857143  0.07142857  0.0047619  -0.57142857  0.14285714 -0.01904762\n",
            "  0.00119048]\n"
          ]
        }
      ]
    },
    {
      "cell_type": "markdown",
      "source": [
        "In the end we get the Pade approximation as:\n",
        "\n",
        "\\begin{equation}\n",
        "P[3, 4] \\approx \\frac{1+\\frac{3}{7}x+\\frac{1}{14}x^2+\\frac{1}{210}x^3}{1 - \\frac{4}{7}x+\\frac{1}{7}x^2-\\frac{2}{105}x^3+\\frac{1}{840}x^4}\n",
        "\\end{equation}"
      ],
      "metadata": {
        "id": "EH9w_SdEI6ll"
      }
    },
    {
      "cell_type": "markdown",
      "source": [
        "Similarly, we can find $P[2, 5]$. Rearranging terms in $f(x)-\\frac{P(x)}{Q(x)}$ will result in a system of equations:\n",
        "\n",
        "$$\n",
        "\\begin{pmatrix}\n",
        "-1 & 0 & 0 & 1 & 0 & 0 & 0 \\\\\n",
        "0 & -1 & 1 & 1 & 0 & 0 & 0 \\\\\n",
        "0 & 0 & 1/2 & 1 & 1 & 0 & 0 \\\\\n",
        "0 & 0 & 1/6 & 1/2 & 1 & 1 & 0 \\\\\n",
        "0 & 0 & 1/24 & 1/6 & 1/2 & 1 & 1 \\\\\n",
        "0 & 0 & 1/120 & 1/24 & 1/6 & 1/2 & 1 \\\\\n",
        "0 & 0 & 1/720 & 1/120 & 1/24 & 1/6 & 1/2 \\\\\n",
        "\\end{pmatrix}\n",
        "\\begin{pmatrix}\n",
        "a_1 \\\\\n",
        "a_2 \\\\\n",
        "b_1 \\\\\n",
        "b_2 \\\\\n",
        "b_3 \\\\\n",
        "b_4 \\\\\n",
        "b_5\n",
        "\\end{pmatrix}\n",
        "\\begin{pmatrix}\n",
        "-1 \\\\\n",
        "-1/2 \\\\\n",
        "-1/6 \\\\\n",
        "-1/24 \\\\\n",
        "-1/120 \\\\\n",
        "-1/720 \\\\\n",
        "-1/5040\n",
        "\\end{pmatrix}\n",
        "$$"
      ],
      "metadata": {
        "id": "-oX6NlNMJbTs"
      }
    },
    {
      "cell_type": "code",
      "source": [
        "A2 = np.array([[-1, 0, 1, 0, 0, 0, 0],\n",
        "              [0, -1, 1, 1, 0, 0 , 0],\n",
        "              [0, 0, 1/2, 1, 1, 0, 0],\n",
        "              [0, 0, 1/6, 1/2, 1, 1, 0],\n",
        "              [0, 0, 1/24, 1/6, 1/2, 1, 1],\n",
        "              [0, 0, 1/120, 1/24, 1/26, 1/2, 1],\n",
        "              [0, 0, 1/720, 1/120, 1/24, 1/6, 1/2]])\n",
        "\n",
        "B2 = np.array([-1, -1/2, -1/6, -1/24, -1/120, -1/720, -1/5040])\n",
        "\n",
        "X2 = np.linalg.solve(A2, B2)\n",
        "\n",
        "print('(a1 a2 b1 b2 b3 b4 b5) = ', X2)"
      ],
      "metadata": {
        "colab": {
          "base_uri": "https://localhost:8080/"
        },
        "id": "G4tswQTRXQPP",
        "outputId": "4d5834aa-f0bb-4fd1-ec21-fe253439ffc8"
      },
      "execution_count": 31,
      "outputs": [
        {
          "output_type": "stream",
          "name": "stdout",
          "text": [
            "(a1 a2 b1 b2 b3 b4 b5) =  [ 4.47477505e-01  5.75101945e-02 -5.52522495e-01  1.10032690e-01\n",
            " -4.38108718e-04 -4.15782024e-03  7.26530291e-04]\n"
          ]
        }
      ]
    },
    {
      "cell_type": "markdown",
      "source": [
        "And the final result is:\n",
        "\n",
        "\\begin{equation}\n",
        "P[2,5] \\approx \\frac{1+\\frac{2}{7}x+\\frac{1}{42}x^2}{1 - \\frac{5}{7}x + \\frac{5}{21}x^2 - \\frac{1}{21}x^3 + \\frac{1}{168}x^4 - \\frac{1}{2520}x^5}\n",
        "\\end{equation}"
      ],
      "metadata": {
        "id": "tbnKS36TXma_"
      }
    },
    {
      "cell_type": "markdown",
      "source": [
        "We can compare the accuracy of these approximations."
      ],
      "metadata": {
        "id": "dADQfjZrPRAq"
      }
    },
    {
      "cell_type": "code",
      "source": [
        "def P_70(x):\n",
        "  return 1 + x + x**2/2 + x**3/6 + x**4/24 + x**5/120 + x**6/720 + x**7/5040\n",
        "\n",
        "def P_34(x):\n",
        "  return (1 + 3*x/7 + x**2/14 + x**3/210)/(1 - 4*x/7 + x**2/7 - 2*x**3/105 + x**4/840)\n",
        "\n",
        "def P_25(x):\n",
        "  return (1 + 2*x/7 + x**2/42)/(1 - 5*x/7 + 5*x**2/21 - x**3/21 + x**3/168 - x**5/2520)"
      ],
      "metadata": {
        "id": "t6kFZLlJXiLF"
      },
      "execution_count": 5,
      "outputs": []
    },
    {
      "cell_type": "code",
      "source": [
        "print('e^(0.5) - P[7,0](0.5) = ', np.exp(0.5) - P_70(0.5))\n",
        "print('e^(0.5) - P[3,4](0.5) = ', np.exp(0.5) - P_34(0.5))\n",
        "print('e^(0.5) - P[2,5](0.5) = ', np.exp(0.5) - P_25(0.5))"
      ],
      "metadata": {
        "colab": {
          "base_uri": "https://localhost:8080/"
        },
        "id": "f0Q5-Ai5QDY5",
        "outputId": "685d13fc-2bd6-4507-e2b0-22731c52b02e"
      },
      "execution_count": 6,
      "outputs": [
        {
          "output_type": "stream",
          "name": "stdout",
          "text": [
            "e^(0.5) - P[7,0](0.5) =  1.0254536642051448e-07\n",
            "e^(0.5) - P[3,4](0.5) =  4.902536598905272e-09\n",
            "e^(0.5) - P[2,5](0.5) =  0.0008797936194260281\n"
          ]
        }
      ]
    },
    {
      "cell_type": "code",
      "source": [
        "print('e^(1) - P[7,0](1) = ', np.exp(1) - P_70(1))\n",
        "print('e^(1) - P[3,4](1) = ', np.exp(1) - P_34(1))\n",
        "print('e^(1) - P[2,5](1) = ', np.exp(1) - P_25(1))"
      ],
      "metadata": {
        "colab": {
          "base_uri": "https://localhost:8080/"
        },
        "id": "Je4gcTV2QXlS",
        "outputId": "986eb589-c27b-428c-d249-5c801568ff0e"
      },
      "execution_count": 7,
      "outputs": [
        {
          "output_type": "stream",
          "name": "stdout",
          "text": [
            "e^(1) - P[7,0](1) =  2.7860205076724043e-05\n",
            "e^(1) - P[3,4](1) =  2.2585665715446623e-06\n",
            "e^(1) - P[2,5](1) =  -4.827224645342909e-06\n"
          ]
        }
      ]
    },
    {
      "cell_type": "code",
      "source": [
        "print('e^(2) - P[7,0](2) = ', np.exp(2) - P_70(2))\n",
        "print('e^(2) - P[3,4](2) = ', np.exp(2) - P_34(2))\n",
        "print('e^(2) - P[2,5](2) = ', np.exp(2) - P_25(2))"
      ],
      "metadata": {
        "colab": {
          "base_uri": "https://localhost:8080/"
        },
        "id": "J-C8jWr3Q4oE",
        "outputId": "532b5c0f-ab06-40d6-f994-236eae51f57a"
      },
      "execution_count": 8,
      "outputs": [
        {
          "output_type": "stream",
          "name": "stdout",
          "text": [
            "e^(2) - P[7,0](2) =  0.00810371797826992\n",
            "e^(2) - P[3,4](2) =  0.001959324737103252\n",
            "e^(2) - P[2,5](2) =  -1.9859439010693531\n"
          ]
        }
      ]
    },
    {
      "cell_type": "code",
      "source": [
        "print('e^(5) - P[7,0](5) = ', np.exp(5) - P_70(5))\n",
        "print('e^(5) - P[3,4](5) = ', np.exp(5) - P_34(5))\n",
        "print('e^(5) - P[2,5](5) = ', np.exp(5) - P_25(5))"
      ],
      "metadata": {
        "colab": {
          "base_uri": "https://localhost:8080/"
        },
        "id": "MMpW02fgQ9Ch",
        "outputId": "5d922d83-e158-49e1-8ce1-3d4934a63026"
      },
      "execution_count": 9,
      "outputs": [
        {
          "output_type": "stream",
          "name": "stdout",
          "text": [
            "e^(5) - P[7,0](5) =  19.79411148352898\n",
            "e^(5) - P[3,4](5) =  77.02854371796137\n",
            "e^(5) - P[2,5](5) =  149.39892883090778\n"
          ]
        }
      ]
    },
    {
      "cell_type": "code",
      "source": [
        "x_vals = np.linspace(0, 10, 100)\n",
        "y_exp = np.exp(x_vals)\n",
        "y_70 = np.array([P_70(x) for x in x_vals])\n",
        "y_34 = np.array([P_34(x) for x in x_vals])\n",
        "y_25 = np.array([P_25(x) for x in x_vals])"
      ],
      "metadata": {
        "id": "rKMmkNTBQ_sB"
      },
      "execution_count": 10,
      "outputs": []
    },
    {
      "cell_type": "code",
      "source": [
        "plt.plot(x_vals, y_exp, color = 'black', label = 'exp(x)')\n",
        "plt.plot(x_vals, y_70, color = 'red', label = 'P[7,0]')\n",
        "plt.plot(x_vals, y_34, color = 'green', label = 'P[3, 4]')\n",
        "plt.plot(x_vals, y_25, color = 'blue', label = 'P[2, 5]')\n",
        "plt.legend()\n",
        "plt.yscale('log')\n",
        "plt.show()"
      ],
      "metadata": {
        "colab": {
          "base_uri": "https://localhost:8080/",
          "height": 430
        },
        "id": "5vLcq1PBRvlY",
        "outputId": "cc59ee5f-a7b7-4474-abe8-3675d6b09c28"
      },
      "execution_count": 11,
      "outputs": [
        {
          "output_type": "display_data",
          "data": {
            "text/plain": [
              "<Figure size 640x480 with 1 Axes>"
            ],
            "image/png": "[encoded data removed]"
          },
          "metadata": {}
        }
      ]
    },
    {
      "cell_type": "markdown",
      "source": [
        "We see that the approximations are only correct closer to $x=0$. $P[2,5]$ drifts drastically at around $x=2$, $P[3,4]$ starts considerably differ at $x=4$."
      ],
      "metadata": {
        "id": "jAQYl8GUTYbZ"
      }
    },
    {
      "cell_type": "markdown",
      "source": [
        "#Problem 2\n",
        "\n",
        "We can use forward Newton-Gregory method to find the third order polynomial:\n",
        "\n",
        "\\begin{equation}\n",
        "P_3(x_s) = f_0 + s\\Delta f_0 + \\frac{s(s-1)}{2!} \\Delta^2 f_0 + \\frac{s(s-1)(s-2)}{3!} \\Delta^3 f_0\n",
        "\\end{equation}\n",
        "\n",
        "Here:\n",
        "\n",
        "\\begin{equation}\n",
        "x_s = x_0 + sh\n",
        "\\end{equation}\n",
        "\n",
        "Where $h$ is a step between $x_k$ and $x_{k+1}$. In our problem the step is 2 and $x_0=4$, so the above equation can be substituted as $s = \\frac{x - 4}{2}$. Substituting this expression and values for differentials will give:\n",
        "\n",
        "\\begin{equation}\n",
        "P(x) = 1 + (x-4) + \\frac{3(x-4)}{4}(\\frac{x-4}{2}-1) + \\frac{x-4}{3}(\\frac{x-4}{2}-1)(\\frac{x-4}{2}-2)\n",
        "\\end{equation}\n",
        "\n",
        "Which further simplifies to:\n",
        "\n",
        "\\begin{equation}\n",
        "P(x) = \\frac{1}{24}(2x^3 -27x^2 +142x-240)\n",
        "\\end{equation}\n",
        "\n",
        "Further we can check this by graphing our interpolation and table values."
      ],
      "metadata": {
        "id": "yS4fKtJDe6QW"
      }
    },
    {
      "cell_type": "code",
      "source": [
        "def P(x):\n",
        "  return (2*x**3 - 27*x**2 + 142*x - 240)/24\n",
        "\n",
        "def dP(x):\n",
        "  return (3*x**2 - 27*x +71)/12\n",
        "\n",
        "def ddP(x):\n",
        "  return x/2 - 9/4\n",
        "\n",
        "def dddP(x):\n",
        "  return 1/2"
      ],
      "metadata": {
        "id": "edTO3iqcSM3g"
      },
      "execution_count": 19,
      "outputs": []
    },
    {
      "cell_type": "code",
      "source": [
        "x_vals2 = np.linspace(3, 11, 200)\n",
        "y0 = np.array([P(x) for x in x_vals2])\n",
        "\n",
        "x_table = np.array([4, 6, 8, 10])\n",
        "y_table = np.array([1, 3, 8, 20])"
      ],
      "metadata": {
        "id": "XHDy5jPslf37"
      },
      "execution_count": 28,
      "outputs": []
    },
    {
      "cell_type": "code",
      "source": [
        "plt.plot(x_vals2, y0, color='black', label='interpolation')\n",
        "plt.plot(x_table, y_table, color='red', label = 'actual values')\n",
        "plt.legend()\n",
        "plt.show()"
      ],
      "metadata": {
        "colab": {
          "base_uri": "https://localhost:8080/",
          "height": 430
        },
        "id": "HnRDphjul8Uv",
        "outputId": "3c353cda-0ddd-4f5a-9981-22feec122d6d"
      },
      "execution_count": 29,
      "outputs": [
        {
          "output_type": "display_data",
          "data": {
            "text/plain": [
              "<Figure size 640x480 with 1 Axes>"
            ],
            "image/png": "[encoded data removed]"
          },
          "metadata": {}
        }
      ]
    },
    {
      "cell_type": "markdown",
      "source": [
        "We see that the interpolation is successfull."
      ],
      "metadata": {
        "id": "l3vsm3ZIoUPv"
      }
    }
  ]
}